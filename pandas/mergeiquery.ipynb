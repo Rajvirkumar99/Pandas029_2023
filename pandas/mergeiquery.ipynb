{
 "cells": [
  {
   "cell_type": "code",
   "execution_count": 1,
   "metadata": {},
   "outputs": [],
   "source": [
    "import pandas as pd"
   ]
  },
  {
   "cell_type": "code",
   "execution_count": 2,
   "metadata": {},
   "outputs": [
    {
     "ename": "ModuleNotFoundError",
     "evalue": "No module named 'mysql'",
     "output_type": "error",
     "traceback": [
      "\u001b[1;31m---------------------------------------------------------------------------\u001b[0m",
      "\u001b[1;31mModuleNotFoundError\u001b[0m                       Traceback (most recent call last)",
      "Cell \u001b[1;32mIn[2], line 1\u001b[0m\n\u001b[1;32m----> 1\u001b[0m \u001b[38;5;28;01mimport\u001b[39;00m\u001b[38;5;250m \u001b[39m\u001b[38;5;21;01mmysql\u001b[39;00m\u001b[38;5;21;01m.\u001b[39;00m\u001b[38;5;21;01mconnector\u001b[39;00m\n",
      "\u001b[1;31mModuleNotFoundError\u001b[0m: No module named 'mysql'"
     ]
    }
   ],
   "source": [
    " import mysql.connector"
   ]
  },
  {
   "cell_type": "code",
   "execution_count": null,
   "metadata": {},
   "outputs": [
    {
     "name": "stdout",
     "output_type": "stream",
     "text": [
      "Defaulting to user installation because normal site-packages is not writeableNote: you may need to restart the kernel to use updated packages.\n",
      "\n",
      "Collecting mysql-connector-python\n",
      "  Using cached mysql_connector_python-9.2.0-cp312-cp312-win_amd64.whl.metadata (6.2 kB)\n",
      "Using cached mysql_connector_python-9.2.0-cp312-cp312-win_amd64.whl (16.1 MB)\n",
      "Installing collected packages: mysql-connector-python\n",
      "Successfully installed mysql-connector-python-9.2.0\n"
     ]
    }
   ],
   "source": [
    "# pip install mysql-connector-pythonA"
   ]
  },
  {
   "cell_type": "code",
   "execution_count": 5,
   "metadata": {},
   "outputs": [],
   "source": [
    " import mysql.connector"
   ]
  },
  {
   "cell_type": "code",
   "execution_count": 10,
   "metadata": {},
   "outputs": [],
   "source": [
    "\n",
    "# Database connection details\n",
    "host = 'localhost'\n",
    "user = 'root'\n",
    "password = 'Rajvir@94'\n",
    "database = 'cgda'\n",
    "port = 3306 \n",
    "\n",
    "# Establishing a connection\n",
    "conn = mysql.connector.connect(\n",
    "    host=host,\n",
    "    user=user,\n",
    "    password=password,\n",
    "    database=database\n",
    ")"
   ]
  },
  {
   "cell_type": "code",
   "execution_count": 11,
   "metadata": {},
   "outputs": [
    {
     "name": "stderr",
     "output_type": "stream",
     "text": [
      "C:\\Users\\Acer\\AppData\\Local\\Temp\\ipykernel_23412\\1614423000.py:5: UserWarning: pandas only supports SQLAlchemy connectable (engine/connection) or database string URI or sqlite3 DBAPI2 connection. Other DBAPI2 objects are not tested. Please consider using SQLAlchemy.\n",
      "  df = pd.read_sql(query, con=conn)\n"
     ]
    },
    {
     "name": "stdout",
     "output_type": "stream",
     "text": [
      "          row_id  mth      did  ddp             accepted  BUDGET  PROJCODE  \\\n",
      "0            353    4  1279606   28  2024-04-01 11:49:27       0  12000066   \n",
      "1            354    4  1279606   28  2024-04-01 11:49:27       0  12000066   \n",
      "2            357    4  1279606   28  2024-04-01 11:49:27       0  12000066   \n",
      "3            359    4  1279606   28  2024-04-01 11:49:27       0  12000066   \n",
      "4            361    4  1279606   28  2024-04-01 11:49:27       0  12000066   \n",
      "...          ...  ...      ...  ...                  ...     ...       ...   \n",
      "1259102  1856532    5  1391319    2  2024-05-31 20:07:44       0     PCDAO   \n",
      "1259103  1856875    5  1391319    2  2024-05-31 20:07:44       0     PCDAO   \n",
      "1259104  1856939    5  1391319    2  2024-05-31 20:07:44       0     PCDAO   \n",
      "1259105  1857396    5  1391319    2  2024-05-31 20:07:44       0     PCDAO   \n",
      "1259106  1858196    5  1391319    2  2024-05-31 20:07:44       0     PCDAO   \n",
      "\n",
      "                                    COMLIACODE CTRLID           BATCH  ...  \\\n",
      "0        2324/28/TULIP/R31092PAB144@20/03/2024      0   1092_010424_1  ...   \n",
      "1        2324/28/TULIP/R31092PAB144@20/03/2024      0   1092_010424_1  ...   \n",
      "2        2324/28/TULIP/R31092PAB144@20/03/2024      0   1092_010424_1  ...   \n",
      "3        2324/28/TULIP/R31092PAB144@20/03/2024      0   1092_010424_1  ...   \n",
      "4        2324/28/TULIP/R31092PAB144@20/03/2024      0   1092_010424_1  ...   \n",
      "...                                        ...    ...             ...  ...   \n",
      "1259102                    R24PSCV149@20240517      0  pm132_310524_1  ...   \n",
      "1259103                  R24LW09V7278@20240520      0  pm132_310524_1  ...   \n",
      "1259104                  R24LW08V7331@20240521      0  pm132_310524_1  ...   \n",
      "1259105                  R24LW13V7791@20240522      0  pm132_310524_1  ...   \n",
      "1259106                  R24LW13V8154@20240528      0  pm132_310524_1  ...   \n",
      "\n",
      "         subhdid  sub_head                                      sub_head_desc  \\\n",
      "0            105        01                    Government Contribution ( 117 )   \n",
      "1            198        00                                    Default ( 111 )   \n",
      "2              6        02            Collection including deductions ( 101 )   \n",
      "3             26        00  Receipts Awaiting Transfer to Other Minor Head...   \n",
      "4             26        00  Receipts Awaiting Transfer to Other Minor Head...   \n",
      "...          ...       ...                                                ...   \n",
      "1259102      311         A    Pay and allownaces of Service personnel ( 113 )   \n",
      "1259103      245         A                Pay and allowances Officers ( 101 )   \n",
      "1259104      245         A                Pay and allowances Officers ( 101 )   \n",
      "1259105      245         A                Pay and allowances Officers ( 101 )   \n",
      "1259106      245         A                Pay and allowances Officers ( 101 )   \n",
      "\n",
      "         dethdid  detailhd                                      detailhd_desc  \\\n",
      "0             46        N1       NA (DEFENCE & OTHERS) (2071 - 01 - 117 - 01)   \n",
      "1            390        N1  Default (DEFENCE AND OTHERS) (8670 - 00 - 111 ...   \n",
      "2              5        N1  - Collection including deductions (DEFENCE AND...   \n",
      "3            909        N1  Receipts Awaiting Transfer to Other Minor Head...   \n",
      "4            909        N1  Receipts Awaiting Transfer to Other Minor Head...   \n",
      "...          ...       ...                                                ...   \n",
      "1259102     1399         1                     OFFICERS (2076 - 00 - 113 - A)   \n",
      "1259103     1151         a  Pay and allowances Officers (2076 - 00 - 101 - A)   \n",
      "1259104     1151         a  Pay and allowances Officers (2076 - 00 - 101 - A)   \n",
      "1259105     1151         a  Pay and allowances Officers (2076 - 00 - 101 - A)   \n",
      "1259106     1151         a  Pay and allowances Officers (2076 - 00 - 101 - A)   \n",
      "\n",
      "          chid     ch                                            ch_desc  rc  \n",
      "0          637   1475  Defence Civilian of Defence Research (2071-01-...   C  \n",
      "1         1504   2091  Pay And Accounts Officers Electronic Advices (...   R  \n",
      "2            8    302  Collection including deductions: Incone Tax on...   R  \n",
      "3           95   1605   Govts Contribution under Tier I (DAD/DEO/CGO/BRO   R  \n",
      "4           94   1604  Govt Servent Contribution under Tier I (DAD/DE...   R  \n",
      "...        ...    ...                                                ...  ..  \n",
      "1259102  16102  54001                     Officers (2076 - 00 - 113 - A)   C  \n",
      "1259103  15613  10126                       AEC (2076 - 00 - 101 - Aa.2)   C  \n",
      "1259104  15604  10113                     E M E (2076 - 00 - 101 - Aa.2)   C  \n",
      "1259105  15604  10113                     E M E (2076 - 00 - 101 - Aa.2)   C  \n",
      "1259106  15604  10113                     E M E (2076 - 00 - 101 - Aa.2)   C  \n",
      "\n",
      "[1259107 rows x 62 columns]\n"
     ]
    }
   ],
   "source": [
    "# Query to fetch data\n",
    "query = \"SELECT * FROM master_all\"\n",
    "\n",
    "# Loading data into a pandas DataFrame\n",
    "df = pd.read_sql(query, con=conn)\n",
    "\n",
    "# Closing the connection\n",
    "conn.close()\n",
    "\n",
    "# Display the DataFrame\n",
    "print(df)"
   ]
  },
  {
   "cell_type": "code",
   "execution_count": 12,
   "metadata": {},
   "outputs": [],
   "source": [
    "import mysql.connector\n"
   ]
  },
  {
   "cell_type": "code",
   "execution_count": 13,
   "metadata": {},
   "outputs": [
    {
     "data": {
      "text/html": [
       "<div>\n",
       "<style scoped>\n",
       "    .dataframe tbody tr th:only-of-type {\n",
       "        vertical-align: middle;\n",
       "    }\n",
       "\n",
       "    .dataframe tbody tr th {\n",
       "        vertical-align: top;\n",
       "    }\n",
       "\n",
       "    .dataframe thead th {\n",
       "        text-align: right;\n",
       "    }\n",
       "</style>\n",
       "<table border=\"1\" class=\"dataframe\">\n",
       "  <thead>\n",
       "    <tr style=\"text-align: right;\">\n",
       "      <th></th>\n",
       "      <th>row_id</th>\n",
       "      <th>mth</th>\n",
       "      <th>did</th>\n",
       "      <th>ddp</th>\n",
       "      <th>accepted</th>\n",
       "      <th>BUDGET</th>\n",
       "      <th>PROJCODE</th>\n",
       "      <th>COMLIACODE</th>\n",
       "      <th>CTRLID</th>\n",
       "      <th>BATCH</th>\n",
       "      <th>...</th>\n",
       "      <th>subhdid</th>\n",
       "      <th>sub_head</th>\n",
       "      <th>sub_head_desc</th>\n",
       "      <th>dethdid</th>\n",
       "      <th>detailhd</th>\n",
       "      <th>detailhd_desc</th>\n",
       "      <th>chid</th>\n",
       "      <th>ch</th>\n",
       "      <th>ch_desc</th>\n",
       "      <th>rc</th>\n",
       "    </tr>\n",
       "  </thead>\n",
       "  <tbody>\n",
       "    <tr>\n",
       "      <th>0</th>\n",
       "      <td>353</td>\n",
       "      <td>4</td>\n",
       "      <td>1279606</td>\n",
       "      <td>28</td>\n",
       "      <td>2024-04-01 11:49:27</td>\n",
       "      <td>0</td>\n",
       "      <td>12000066</td>\n",
       "      <td>2324/28/TULIP/R31092PAB144@20/03/2024</td>\n",
       "      <td>0</td>\n",
       "      <td>1092_010424_1</td>\n",
       "      <td>...</td>\n",
       "      <td>105</td>\n",
       "      <td>01</td>\n",
       "      <td>Government Contribution ( 117 )</td>\n",
       "      <td>46</td>\n",
       "      <td>N1</td>\n",
       "      <td>NA (DEFENCE &amp; OTHERS) (2071 - 01 - 117 - 01)</td>\n",
       "      <td>637</td>\n",
       "      <td>1475</td>\n",
       "      <td>Defence Civilian of Defence Research (2071-01-...</td>\n",
       "      <td>C</td>\n",
       "    </tr>\n",
       "    <tr>\n",
       "      <th>1</th>\n",
       "      <td>354</td>\n",
       "      <td>4</td>\n",
       "      <td>1279606</td>\n",
       "      <td>28</td>\n",
       "      <td>2024-04-01 11:49:27</td>\n",
       "      <td>0</td>\n",
       "      <td>12000066</td>\n",
       "      <td>2324/28/TULIP/R31092PAB144@20/03/2024</td>\n",
       "      <td>0</td>\n",
       "      <td>1092_010424_1</td>\n",
       "      <td>...</td>\n",
       "      <td>198</td>\n",
       "      <td>00</td>\n",
       "      <td>Default ( 111 )</td>\n",
       "      <td>390</td>\n",
       "      <td>N1</td>\n",
       "      <td>Default (DEFENCE AND OTHERS) (8670 - 00 - 111 ...</td>\n",
       "      <td>1504</td>\n",
       "      <td>2091</td>\n",
       "      <td>Pay And Accounts Officers Electronic Advices (...</td>\n",
       "      <td>R</td>\n",
       "    </tr>\n",
       "  </tbody>\n",
       "</table>\n",
       "<p>2 rows × 62 columns</p>\n",
       "</div>"
      ],
      "text/plain": [
       "   row_id  mth      did  ddp             accepted  BUDGET  PROJCODE  \\\n",
       "0     353    4  1279606   28  2024-04-01 11:49:27       0  12000066   \n",
       "1     354    4  1279606   28  2024-04-01 11:49:27       0  12000066   \n",
       "\n",
       "                              COMLIACODE CTRLID          BATCH  ...  subhdid  \\\n",
       "0  2324/28/TULIP/R31092PAB144@20/03/2024      0  1092_010424_1  ...      105   \n",
       "1  2324/28/TULIP/R31092PAB144@20/03/2024      0  1092_010424_1  ...      198   \n",
       "\n",
       "   sub_head                    sub_head_desc  dethdid  detailhd  \\\n",
       "0        01  Government Contribution ( 117 )       46        N1   \n",
       "1        00                  Default ( 111 )      390        N1   \n",
       "\n",
       "                                       detailhd_desc  chid    ch  \\\n",
       "0       NA (DEFENCE & OTHERS) (2071 - 01 - 117 - 01)   637  1475   \n",
       "1  Default (DEFENCE AND OTHERS) (8670 - 00 - 111 ...  1504  2091   \n",
       "\n",
       "                                             ch_desc  rc  \n",
       "0  Defence Civilian of Defence Research (2071-01-...   C  \n",
       "1  Pay And Accounts Officers Electronic Advices (...   R  \n",
       "\n",
       "[2 rows x 62 columns]"
      ]
     },
     "execution_count": 13,
     "metadata": {},
     "output_type": "execute_result"
    }
   ],
   "source": [
    "df.head(2)"
   ]
  },
  {
   "cell_type": "code",
   "execution_count": null,
   "metadata": {},
   "outputs": [],
   "source": []
  }
 ],
 "metadata": {
  "kernelspec": {
   "display_name": "base",
   "language": "python",
   "name": "python3"
  },
  "language_info": {
   "codemirror_mode": {
    "name": "ipython",
    "version": 3
   },
   "file_extension": ".py",
   "mimetype": "text/x-python",
   "name": "python",
   "nbconvert_exporter": "python",
   "pygments_lexer": "ipython3",
   "version": "3.12.7"
  }
 },
 "nbformat": 4,
 "nbformat_minor": 2
}
